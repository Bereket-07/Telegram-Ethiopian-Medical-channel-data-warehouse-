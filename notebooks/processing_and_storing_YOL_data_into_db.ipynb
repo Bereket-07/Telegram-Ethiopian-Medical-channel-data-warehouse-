{
 "cells": [
  {
   "cell_type": "code",
   "execution_count": 1,
   "metadata": {},
   "outputs": [],
   "source": [
    "import os, sys\n",
    "sys.path.append(os.path.abspath('../scripts/YOLO'))"
   ]
  },
  {
   "cell_type": "code",
   "execution_count": 2,
   "metadata": {},
   "outputs": [],
   "source": [
    "import making_data_frame_the_detected_data as mk\n",
    "import store_to_db as sd"
   ]
  },
  {
   "cell_type": "code",
   "execution_count": 3,
   "metadata": {},
   "outputs": [
    {
     "name": "stderr",
     "output_type": "stream",
     "text": [
      "2024-10-14 12:01:04,554 - making_data_frame_the_detected_data - INFO - Processing the data collected from the YOLO object detection model...\n",
      "2024-10-14 12:01:04,932 - root - INFO - Create the table \n",
      "2024-10-14 12:01:04,934 - root - INFO - cratin the database table \n",
      "2024-10-14 12:01:05,178 - root - INFO - database table created sucessfully\n",
      "2024-10-14 12:01:05,180 - root - INFO - Inserting data into the database ...\n",
      "2024-10-14 12:01:05,550 - root - INFO - Data inserted successfully.\n"
     ]
    }
   ],
   "source": [
    "path = '../yolov5/runs/detect/exp/labels'\n",
    "df = mk.process_the_YOLO_object(path)\n",
    "sd.create_the_db_table()\n",
    "sd.insert_data(df)"
   ]
  },
  {
   "cell_type": "code",
   "execution_count": 4,
   "metadata": {},
   "outputs": [
    {
     "data": {
      "text/html": [
       "<div>\n",
       "<style scoped>\n",
       "    .dataframe tbody tr th:only-of-type {\n",
       "        vertical-align: middle;\n",
       "    }\n",
       "\n",
       "    .dataframe tbody tr th {\n",
       "        vertical-align: top;\n",
       "    }\n",
       "\n",
       "    .dataframe thead th {\n",
       "        text-align: right;\n",
       "    }\n",
       "</style>\n",
       "<table border=\"1\" class=\"dataframe\">\n",
       "  <thead>\n",
       "    <tr style=\"text-align: right;\">\n",
       "      <th></th>\n",
       "      <th>filename</th>\n",
       "      <th>class_id</th>\n",
       "      <th>x_center</th>\n",
       "      <th>y_center</th>\n",
       "      <th>width</th>\n",
       "      <th>height</th>\n",
       "      <th>confidence</th>\n",
       "    </tr>\n",
       "  </thead>\n",
       "  <tbody>\n",
       "    <tr>\n",
       "      <th>0</th>\n",
       "      <td>@CheMed123_13.txt</td>\n",
       "      <td>41</td>\n",
       "      <td>0.631250</td>\n",
       "      <td>0.515625</td>\n",
       "      <td>0.053125</td>\n",
       "      <td>0.056250</td>\n",
       "      <td>0.255105</td>\n",
       "    </tr>\n",
       "    <tr>\n",
       "      <th>1</th>\n",
       "      <td>@CheMed123_13.txt</td>\n",
       "      <td>32</td>\n",
       "      <td>0.504297</td>\n",
       "      <td>0.502734</td>\n",
       "      <td>0.089844</td>\n",
       "      <td>0.092969</td>\n",
       "      <td>0.272149</td>\n",
       "    </tr>\n",
       "    <tr>\n",
       "      <th>2</th>\n",
       "      <td>@CheMed123_13.txt</td>\n",
       "      <td>51</td>\n",
       "      <td>0.415234</td>\n",
       "      <td>0.471094</td>\n",
       "      <td>0.072656</td>\n",
       "      <td>0.067187</td>\n",
       "      <td>0.433008</td>\n",
       "    </tr>\n",
       "    <tr>\n",
       "      <th>3</th>\n",
       "      <td>@CheMed123_13.txt</td>\n",
       "      <td>32</td>\n",
       "      <td>0.207031</td>\n",
       "      <td>0.394922</td>\n",
       "      <td>0.053125</td>\n",
       "      <td>0.049219</td>\n",
       "      <td>0.450486</td>\n",
       "    </tr>\n",
       "    <tr>\n",
       "      <th>4</th>\n",
       "      <td>@CheMed123_13.txt</td>\n",
       "      <td>32</td>\n",
       "      <td>0.546484</td>\n",
       "      <td>0.487109</td>\n",
       "      <td>0.049219</td>\n",
       "      <td>0.052344</td>\n",
       "      <td>0.511538</td>\n",
       "    </tr>\n",
       "  </tbody>\n",
       "</table>\n",
       "</div>"
      ],
      "text/plain": [
       "            filename  class_id  x_center  y_center     width    height  \\\n",
       "0  @CheMed123_13.txt        41  0.631250  0.515625  0.053125  0.056250   \n",
       "1  @CheMed123_13.txt        32  0.504297  0.502734  0.089844  0.092969   \n",
       "2  @CheMed123_13.txt        51  0.415234  0.471094  0.072656  0.067187   \n",
       "3  @CheMed123_13.txt        32  0.207031  0.394922  0.053125  0.049219   \n",
       "4  @CheMed123_13.txt        32  0.546484  0.487109  0.049219  0.052344   \n",
       "\n",
       "   confidence  \n",
       "0    0.255105  \n",
       "1    0.272149  \n",
       "2    0.433008  \n",
       "3    0.450486  \n",
       "4    0.511538  "
      ]
     },
     "execution_count": 4,
     "metadata": {},
     "output_type": "execute_result"
    }
   ],
   "source": [
    "df.head()"
   ]
  },
  {
   "cell_type": "code",
   "execution_count": null,
   "metadata": {},
   "outputs": [],
   "source": []
  }
 ],
 "metadata": {
  "kernelspec": {
   "display_name": ".week-7",
   "language": "python",
   "name": "python3"
  },
  "language_info": {
   "codemirror_mode": {
    "name": "ipython",
    "version": 3
   },
   "file_extension": ".py",
   "mimetype": "text/x-python",
   "name": "python",
   "nbconvert_exporter": "python",
   "pygments_lexer": "ipython3",
   "version": "3.12.2"
  }
 },
 "nbformat": 4,
 "nbformat_minor": 2
}
