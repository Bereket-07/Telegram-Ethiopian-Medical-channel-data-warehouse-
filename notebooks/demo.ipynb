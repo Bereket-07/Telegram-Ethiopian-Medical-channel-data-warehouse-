{
 "cells": [
  {
   "cell_type": "code",
   "execution_count": 1,
   "metadata": {},
   "outputs": [],
   "source": [
    "import pandas as pd \n",
    "import os, sys"
   ]
  },
  {
   "cell_type": "code",
   "execution_count": 2,
   "metadata": {},
   "outputs": [],
   "source": [
    "sys.path.append(os.path.abspath('../scripts/'))"
   ]
  },
  {
   "cell_type": "code",
   "execution_count": 3,
   "metadata": {},
   "outputs": [],
   "source": [
    "import scraping_photos as sp"
   ]
  },
  {
   "cell_type": "code",
   "execution_count": 4,
   "metadata": {},
   "outputs": [],
   "source": [
    "df =  pd.read_csv('../data/DoctorsET_data.csv')\n"
   ]
  },
  {
   "cell_type": "code",
   "execution_count": 5,
   "metadata": {},
   "outputs": [
    {
     "data": {
      "text/html": [
       "<div>\n",
       "<style scoped>\n",
       "    .dataframe tbody tr th:only-of-type {\n",
       "        vertical-align: middle;\n",
       "    }\n",
       "\n",
       "    .dataframe tbody tr th {\n",
       "        vertical-align: top;\n",
       "    }\n",
       "\n",
       "    .dataframe thead th {\n",
       "        text-align: right;\n",
       "    }\n",
       "</style>\n",
       "<table border=\"1\" class=\"dataframe\">\n",
       "  <thead>\n",
       "    <tr style=\"text-align: right;\">\n",
       "      <th></th>\n",
       "      <th>Channel Title</th>\n",
       "      <th>Channel Username</th>\n",
       "      <th>ID</th>\n",
       "      <th>Message</th>\n",
       "      <th>Date</th>\n",
       "      <th>Media Path</th>\n",
       "    </tr>\n",
       "  </thead>\n",
       "  <tbody>\n",
       "    <tr>\n",
       "      <th>0</th>\n",
       "      <td>Doctors Ethiopia</td>\n",
       "      <td>@DoctorsET</td>\n",
       "      <td>864</td>\n",
       "      <td>https://youtu.be/5DBoEm-8kmA?si=LDLuEecNfULJVD...</td>\n",
       "      <td>2023-12-18 17:04:02+00:00</td>\n",
       "      <td>../photos\\@DoctorsET_864.jpg</td>\n",
       "    </tr>\n",
       "    <tr>\n",
       "      <th>1</th>\n",
       "      <td>Doctors Ethiopia</td>\n",
       "      <td>@DoctorsET</td>\n",
       "      <td>863</td>\n",
       "      <td>ዶክተርስ ኢትዮጵያ በ አዲስ አቀራረብ በ ቴሌቪዥን ፕሮግራሙን ለመጀመር ከ...</td>\n",
       "      <td>2023-11-03 16:14:39+00:00</td>\n",
       "      <td>../photos\\@DoctorsET_863.jpg</td>\n",
       "    </tr>\n",
       "    <tr>\n",
       "      <th>2</th>\n",
       "      <td>Doctors Ethiopia</td>\n",
       "      <td>@DoctorsET</td>\n",
       "      <td>862</td>\n",
       "      <td>ሞት በስኳር \\n\\nለልጆቻችን የምናሲዘው ምሳቃ ሳናቀው እድሚያቸውን ይቀን...</td>\n",
       "      <td>2023-10-02 16:37:39+00:00</td>\n",
       "      <td>../photos\\@DoctorsET_862.jpg</td>\n",
       "    </tr>\n",
       "    <tr>\n",
       "      <th>3</th>\n",
       "      <td>Doctors Ethiopia</td>\n",
       "      <td>@DoctorsET</td>\n",
       "      <td>861</td>\n",
       "      <td>ከ HIV የተፈወሰ ሰው አጋጥሟችሁ ያቃል ? ፈውስ እና ህክምና ?\\n\\nሙ...</td>\n",
       "      <td>2023-09-16 07:54:32+00:00</td>\n",
       "      <td>../photos\\@DoctorsET_861.jpg</td>\n",
       "    </tr>\n",
       "    <tr>\n",
       "      <th>4</th>\n",
       "      <td>Doctors Ethiopia</td>\n",
       "      <td>@DoctorsET</td>\n",
       "      <td>860</td>\n",
       "      <td>በቅርብ ጊዜ በሃገራችን ላይ እየተስተዋለ ያለ የተመሳሳይ ፆታ ( Homos...</td>\n",
       "      <td>2023-09-01 16:16:15+00:00</td>\n",
       "      <td>../photos\\@DoctorsET_860.jpg</td>\n",
       "    </tr>\n",
       "  </tbody>\n",
       "</table>\n",
       "</div>"
      ],
      "text/plain": [
       "      Channel Title Channel Username   ID  \\\n",
       "0  Doctors Ethiopia       @DoctorsET  864   \n",
       "1  Doctors Ethiopia       @DoctorsET  863   \n",
       "2  Doctors Ethiopia       @DoctorsET  862   \n",
       "3  Doctors Ethiopia       @DoctorsET  861   \n",
       "4  Doctors Ethiopia       @DoctorsET  860   \n",
       "\n",
       "                                             Message  \\\n",
       "0  https://youtu.be/5DBoEm-8kmA?si=LDLuEecNfULJVD...   \n",
       "1  ዶክተርስ ኢትዮጵያ በ አዲስ አቀራረብ በ ቴሌቪዥን ፕሮግራሙን ለመጀመር ከ...   \n",
       "2  ሞት በስኳር \\n\\nለልጆቻችን የምናሲዘው ምሳቃ ሳናቀው እድሚያቸውን ይቀን...   \n",
       "3  ከ HIV የተፈወሰ ሰው አጋጥሟችሁ ያቃል ? ፈውስ እና ህክምና ?\\n\\nሙ...   \n",
       "4  በቅርብ ጊዜ በሃገራችን ላይ እየተስተዋለ ያለ የተመሳሳይ ፆታ ( Homos...   \n",
       "\n",
       "                        Date                    Media Path  \n",
       "0  2023-12-18 17:04:02+00:00  ../photos\\@DoctorsET_864.jpg  \n",
       "1  2023-11-03 16:14:39+00:00  ../photos\\@DoctorsET_863.jpg  \n",
       "2  2023-10-02 16:37:39+00:00  ../photos\\@DoctorsET_862.jpg  \n",
       "3  2023-09-16 07:54:32+00:00  ../photos\\@DoctorsET_861.jpg  \n",
       "4  2023-09-01 16:16:15+00:00  ../photos\\@DoctorsET_860.jpg  "
      ]
     },
     "execution_count": 5,
     "metadata": {},
     "output_type": "execute_result"
    }
   ],
   "source": [
    "df.head()"
   ]
  },
  {
   "cell_type": "code",
   "execution_count": 6,
   "metadata": {},
   "outputs": [
    {
     "data": {
      "text/plain": [
       "Channel Title        0\n",
       "Channel Username     0\n",
       "ID                   0\n",
       "Message             63\n",
       "Date                 0\n",
       "Media Path           4\n",
       "dtype: int64"
      ]
     },
     "execution_count": 6,
     "metadata": {},
     "output_type": "execute_result"
    }
   ],
   "source": [
    "df.isnull().sum()"
   ]
  },
  {
   "cell_type": "code",
   "execution_count": 7,
   "metadata": {},
   "outputs": [
    {
     "data": {
      "text/plain": [
       "(195, 6)"
      ]
     },
     "execution_count": 7,
     "metadata": {},
     "output_type": "execute_result"
    }
   ],
   "source": [
    "df.shape"
   ]
  },
  {
   "cell_type": "code",
   "execution_count": 8,
   "metadata": {},
   "outputs": [
    {
     "data": {
      "text/plain": [
       "<coroutine object main at 0x00000186E8C98F40>"
      ]
     },
     "execution_count": 8,
     "metadata": {},
     "output_type": "execute_result"
    }
   ],
   "source": [
    "sp.main('../tg_channels/YOROchannels.json')"
   ]
  },
  {
   "cell_type": "code",
   "execution_count": 10,
   "metadata": {},
   "outputs": [],
   "source": [
    "def main(path):\n",
    "    data = pd.read_csv(path)\n",
    "    return data.shape"
   ]
  },
  {
   "cell_type": "code",
   "execution_count": 14,
   "metadata": {},
   "outputs": [
    {
     "name": "stdout",
     "output_type": "stream",
     "text": [
      "DoctorsET_data.csv : (195, 6)\n",
      "CheMed123_data.csv : (79, 6)\n",
      "EAHCI_data.csv : (672, 6)\n",
      "lobelia4cosmetics_data.csv : (1001, 6)\n",
      "yetenaweg_data.csv : (142, 6)\n"
     ]
    }
   ],
   "source": [
    "path = ['DoctorsET_data.csv','CheMed123_data.csv','EAHCI_data.csv','lobelia4cosmetics_data.csv','yetenaweg_data.csv']\n",
    "\n",
    "\n",
    "for p in path:\n",
    "    print(f\"{p} : {main(f\"../data/{p}\")}\")\n"
   ]
  },
  {
   "cell_type": "code",
   "execution_count": null,
   "metadata": {},
   "outputs": [],
   "source": []
  }
 ],
 "metadata": {
  "kernelspec": {
   "display_name": ".week-7",
   "language": "python",
   "name": "python3"
  },
  "language_info": {
   "codemirror_mode": {
    "name": "ipython",
    "version": 3
   },
   "file_extension": ".py",
   "mimetype": "text/x-python",
   "name": "python",
   "nbconvert_exporter": "python",
   "pygments_lexer": "ipython3",
   "version": "3.12.2"
  }
 },
 "nbformat": 4,
 "nbformat_minor": 2
}
