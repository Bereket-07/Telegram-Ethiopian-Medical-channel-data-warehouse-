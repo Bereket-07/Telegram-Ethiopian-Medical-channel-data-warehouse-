{
 "cells": [
  {
   "cell_type": "code",
   "execution_count": 1,
   "metadata": {},
   "outputs": [],
   "source": [
    "import os,sys\n",
    "import pandas as pd"
   ]
  },
  {
   "cell_type": "code",
   "execution_count": 2,
   "metadata": {},
   "outputs": [],
   "source": [
    "sys.path.append(os.path.abspath('../scripts'))"
   ]
  },
  {
   "cell_type": "code",
   "execution_count": 3,
   "metadata": {},
   "outputs": [],
   "source": [
    "import data_cleaning_and_transformation as dct"
   ]
  },
  {
   "cell_type": "markdown",
   "metadata": {},
   "source": [
    "# Data Cleaning and Transforming "
   ]
  },
  {
   "cell_type": "markdown",
   "metadata": {},
   "source": [
    "### loading the data set"
   ]
  },
  {
   "cell_type": "code",
   "execution_count": 4,
   "metadata": {},
   "outputs": [
    {
     "name": "stderr",
     "output_type": "stream",
     "text": [
      "2024-10-11 16:36:55,632 - root - INFO - loading the data \n",
      "2024-10-11 16:36:55,653 - root - INFO - loading the data \n",
      "2024-10-11 16:36:55,658 - root - INFO - loading the data \n",
      "2024-10-11 16:36:55,672 - root - INFO - loading the data \n",
      "2024-10-11 16:36:55,692 - root - INFO - loading the data \n"
     ]
    }
   ],
   "source": [
    "DoctorsET_df = dct.load_data(\"../data/DoctorsET_data.csv\")\n",
    "CheMed123_df = dct.load_data(\"../data/CheMed123_data.csv\")\n",
    "EAHCI_df = dct.load_data(\"../data/EAHCI_data.csv\")\n",
    "lobelia4cosmetics_df = dct.load_data(\"../data/lobelia4cosmetics_data.csv\")\n",
    "yetenaweg_df = dct.load_data(\"../data/yetenaweg_data.csv\")\n"
   ]
  },
  {
   "cell_type": "markdown",
   "metadata": {},
   "source": [
    "### meging the data frame"
   ]
  },
  {
   "cell_type": "code",
   "execution_count": 5,
   "metadata": {},
   "outputs": [
    {
     "name": "stderr",
     "output_type": "stream",
     "text": [
      "2024-10-11 16:36:55,712 - root - INFO - merging the whole data frames into one big data frame\n"
     ]
    }
   ],
   "source": [
    "dataframes = [DoctorsET_df,CheMed123_df,EAHCI_df,lobelia4cosmetics_df,yetenaweg_df]\n",
    "df = dct.merge_the_data_frames(dataframes)"
   ]
  },
  {
   "cell_type": "code",
   "execution_count": 6,
   "metadata": {},
   "outputs": [
    {
     "data": {
      "text/html": [
       "<div>\n",
       "<style scoped>\n",
       "    .dataframe tbody tr th:only-of-type {\n",
       "        vertical-align: middle;\n",
       "    }\n",
       "\n",
       "    .dataframe tbody tr th {\n",
       "        vertical-align: top;\n",
       "    }\n",
       "\n",
       "    .dataframe thead th {\n",
       "        text-align: right;\n",
       "    }\n",
       "</style>\n",
       "<table border=\"1\" class=\"dataframe\">\n",
       "  <thead>\n",
       "    <tr style=\"text-align: right;\">\n",
       "      <th></th>\n",
       "      <th>Channel Title</th>\n",
       "      <th>Channel Username</th>\n",
       "      <th>ID</th>\n",
       "      <th>Message</th>\n",
       "      <th>Date</th>\n",
       "      <th>Media Path</th>\n",
       "    </tr>\n",
       "  </thead>\n",
       "  <tbody>\n",
       "    <tr>\n",
       "      <th>0</th>\n",
       "      <td>Doctors Ethiopia</td>\n",
       "      <td>@DoctorsET</td>\n",
       "      <td>864</td>\n",
       "      <td>https://youtu.be/5DBoEm-8kmA?si=LDLuEecNfULJVD...</td>\n",
       "      <td>2023-12-18 17:04:02+00:00</td>\n",
       "      <td>../photos\\@DoctorsET_864.jpg</td>\n",
       "    </tr>\n",
       "    <tr>\n",
       "      <th>1</th>\n",
       "      <td>Doctors Ethiopia</td>\n",
       "      <td>@DoctorsET</td>\n",
       "      <td>863</td>\n",
       "      <td>ዶክተርስ ኢትዮጵያ በ አዲስ አቀራረብ በ ቴሌቪዥን ፕሮግራሙን ለመጀመር ከ...</td>\n",
       "      <td>2023-11-03 16:14:39+00:00</td>\n",
       "      <td>../photos\\@DoctorsET_863.jpg</td>\n",
       "    </tr>\n",
       "    <tr>\n",
       "      <th>2</th>\n",
       "      <td>Doctors Ethiopia</td>\n",
       "      <td>@DoctorsET</td>\n",
       "      <td>862</td>\n",
       "      <td>ሞት በስኳር \\n\\nለልጆቻችን የምናሲዘው ምሳቃ ሳናቀው እድሚያቸውን ይቀን...</td>\n",
       "      <td>2023-10-02 16:37:39+00:00</td>\n",
       "      <td>../photos\\@DoctorsET_862.jpg</td>\n",
       "    </tr>\n",
       "    <tr>\n",
       "      <th>3</th>\n",
       "      <td>Doctors Ethiopia</td>\n",
       "      <td>@DoctorsET</td>\n",
       "      <td>861</td>\n",
       "      <td>ከ HIV የተፈወሰ ሰው አጋጥሟችሁ ያቃል ? ፈውስ እና ህክምና ?\\n\\nሙ...</td>\n",
       "      <td>2023-09-16 07:54:32+00:00</td>\n",
       "      <td>../photos\\@DoctorsET_861.jpg</td>\n",
       "    </tr>\n",
       "    <tr>\n",
       "      <th>4</th>\n",
       "      <td>Doctors Ethiopia</td>\n",
       "      <td>@DoctorsET</td>\n",
       "      <td>860</td>\n",
       "      <td>በቅርብ ጊዜ በሃገራችን ላይ እየተስተዋለ ያለ የተመሳሳይ ፆታ ( Homos...</td>\n",
       "      <td>2023-09-01 16:16:15+00:00</td>\n",
       "      <td>../photos\\@DoctorsET_860.jpg</td>\n",
       "    </tr>\n",
       "  </tbody>\n",
       "</table>\n",
       "</div>"
      ],
      "text/plain": [
       "      Channel Title Channel Username   ID  \\\n",
       "0  Doctors Ethiopia       @DoctorsET  864   \n",
       "1  Doctors Ethiopia       @DoctorsET  863   \n",
       "2  Doctors Ethiopia       @DoctorsET  862   \n",
       "3  Doctors Ethiopia       @DoctorsET  861   \n",
       "4  Doctors Ethiopia       @DoctorsET  860   \n",
       "\n",
       "                                             Message  \\\n",
       "0  https://youtu.be/5DBoEm-8kmA?si=LDLuEecNfULJVD...   \n",
       "1  ዶክተርስ ኢትዮጵያ በ አዲስ አቀራረብ በ ቴሌቪዥን ፕሮግራሙን ለመጀመር ከ...   \n",
       "2  ሞት በስኳር \\n\\nለልጆቻችን የምናሲዘው ምሳቃ ሳናቀው እድሚያቸውን ይቀን...   \n",
       "3  ከ HIV የተፈወሰ ሰው አጋጥሟችሁ ያቃል ? ፈውስ እና ህክምና ?\\n\\nሙ...   \n",
       "4  በቅርብ ጊዜ በሃገራችን ላይ እየተስተዋለ ያለ የተመሳሳይ ፆታ ( Homos...   \n",
       "\n",
       "                        Date                    Media Path  \n",
       "0  2023-12-18 17:04:02+00:00  ../photos\\@DoctorsET_864.jpg  \n",
       "1  2023-11-03 16:14:39+00:00  ../photos\\@DoctorsET_863.jpg  \n",
       "2  2023-10-02 16:37:39+00:00  ../photos\\@DoctorsET_862.jpg  \n",
       "3  2023-09-16 07:54:32+00:00  ../photos\\@DoctorsET_861.jpg  \n",
       "4  2023-09-01 16:16:15+00:00  ../photos\\@DoctorsET_860.jpg  "
      ]
     },
     "execution_count": 6,
     "metadata": {},
     "output_type": "execute_result"
    }
   ],
   "source": [
    "df.head()"
   ]
  },
  {
   "cell_type": "markdown",
   "metadata": {},
   "source": [
    "### checking for missing values"
   ]
  },
  {
   "cell_type": "code",
   "execution_count": 7,
   "metadata": {},
   "outputs": [
    {
     "name": "stderr",
     "output_type": "stream",
     "text": [
      "2024-10-11 16:36:55,762 - root - INFO - checking for missing values\n",
      "2024-10-11 16:36:55,769 - root - INFO - missing values detected: \n",
      " Channel Title         0\n",
      "Channel Username      0\n",
      "ID                    0\n",
      "Message             327\n",
      "Date                  0\n",
      "Media Path          132\n",
      "dtype: int64\n"
     ]
    }
   ],
   "source": [
    "dct.check_for_missing_values(df)"
   ]
  },
  {
   "cell_type": "markdown",
   "metadata": {},
   "source": [
    "### since the missing values are very small i will drop the missing values "
   ]
  },
  {
   "cell_type": "code",
   "execution_count": 8,
   "metadata": {},
   "outputs": [],
   "source": [
    "df  = df.dropna()"
   ]
  },
  {
   "cell_type": "code",
   "execution_count": 9,
   "metadata": {},
   "outputs": [
    {
     "name": "stderr",
     "output_type": "stream",
     "text": [
      "2024-10-11 16:36:55,835 - root - INFO - checking for missing values\n",
      "2024-10-11 16:36:55,839 - root - INFO - missing values detected: \n",
      " Channel Title       0\n",
      "Channel Username    0\n",
      "ID                  0\n",
      "Message             0\n",
      "Date                0\n",
      "Media Path          0\n",
      "dtype: int64\n"
     ]
    }
   ],
   "source": [
    "dct.check_for_missing_values(df)"
   ]
  },
  {
   "cell_type": "markdown",
   "metadata": {},
   "source": [
    "### Standardizing the data frame "
   ]
  },
  {
   "cell_type": "code",
   "execution_count": 10,
   "metadata": {},
   "outputs": [
    {
     "name": "stderr",
     "output_type": "stream",
     "text": [
      "2024-10-11 16:36:55,856 - root - INFO - standardizing the data frame\n",
      "2024-10-11 16:36:55,870 - root - INFO - cleaining the message column \n",
      "2024-10-11 16:36:55,947 - root - INFO - the message column cleaned sucessfully\n"
     ]
    }
   ],
   "source": [
    "df = dct.Standardixing_the_data(df)"
   ]
  },
  {
   "cell_type": "code",
   "execution_count": 11,
   "metadata": {},
   "outputs": [],
   "source": [
    "df.to_csv('../data/scraped_data.csv')"
   ]
  },
  {
   "cell_type": "code",
   "execution_count": null,
   "metadata": {},
   "outputs": [],
   "source": []
  }
 ],
 "metadata": {
  "kernelspec": {
   "display_name": ".week-7",
   "language": "python",
   "name": "python3"
  },
  "language_info": {
   "codemirror_mode": {
    "name": "ipython",
    "version": 3
   },
   "file_extension": ".py",
   "mimetype": "text/x-python",
   "name": "python",
   "nbconvert_exporter": "python",
   "pygments_lexer": "ipython3",
   "version": "3.12.2"
  }
 },
 "nbformat": 4,
 "nbformat_minor": 2
}
